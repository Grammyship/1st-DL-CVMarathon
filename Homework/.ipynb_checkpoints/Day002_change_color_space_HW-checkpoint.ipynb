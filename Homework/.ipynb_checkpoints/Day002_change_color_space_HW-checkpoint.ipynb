{
 "cells": [
  {
   "cell_type": "code",
   "execution_count": null,
   "metadata": {},
   "outputs": [],
   "source": [
    "import cv2\n",
    "\n",
    "img_source = 'lena.png'\n",
    "\n",
    "img = cv2.imread( img_source , cv2.IMREAD_COLOR )\n",
    "\n",
    "img_HSV = cv2.cvtColor( img , cv2.COLOR_BGR2HSV )\n",
    "img_HSL = cv2.cvtColor( img , cv2.COLOR_BGR2HLS )\n",
    "img_LAB = cv2.cvtColor( img , cv2.COLOR_BGR2LAB )\n",
    "\n",
    "while True:\n",
    "    cv2.imshow( 'bgr' , img )\n",
    "    cv2.imshow( 'HSV' , img_HSV )\n",
    "    cv2.imshow( 'HSL' , img_HSL )\n",
    "    cv2.imshow( 'LAB' , img_LAB )\n",
    "    \n",
    "    press = cv2.waitKey( 0 )\n",
    "    if press == 27:\n",
    "        cv2.destroyAllWindows()\n",
    "        break"
   ]
  }
 ],
 "metadata": {
  "kernelspec": {
   "display_name": "Python 3",
   "language": "python",
   "name": "python3"
  },
  "language_info": {
   "codemirror_mode": {
    "name": "ipython",
    "version": 3
   },
   "file_extension": ".py",
   "mimetype": "text/x-python",
   "name": "python",
   "nbconvert_exporter": "python",
   "pygments_lexer": "ipython3",
   "version": "3.7.4"
  }
 },
 "nbformat": 4,
 "nbformat_minor": 2
}
