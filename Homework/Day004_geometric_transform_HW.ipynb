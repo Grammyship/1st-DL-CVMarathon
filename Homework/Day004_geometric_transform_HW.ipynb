{
 "cells": [
  {
   "cell_type": "code",
   "execution_count": 1,
   "metadata": {},
   "outputs": [
    {
     "name": "stdout",
     "output_type": "stream",
     "text": [
      "INTER_NEAREST zoom cost 0.0009932518005371094\n",
      "INTER_NEAREST zoom cost 0.0009927749633789062\n",
      "INTER_CUBIC zoom cost 0.0\n",
      "INTER_CUBIC zoom cost 0.0009975433349609375\n"
     ]
    }
   ],
   "source": [
    "import cv2\n",
    "import time\n",
    "import numpy as np\n",
    "\n",
    "img_source = 'lena.png'\n",
    "\n",
    "img = cv2.imread( img_source ) \n",
    "\n",
    "img_hflip = img[ : , ::-1 , : ]\n",
    "\n",
    "img_vflip = img[ ::-1 , : , : ]\n",
    "\n",
    "img_hvflip = img[ ::-1 , ::-1 , : ]\n",
    "\n",
    "hflip = np.hstack((img, img_hflip))\n",
    "vflip = np.hstack((img_vflip, img_hvflip))\n",
    "img_flip = np.vstack((hflip, vflip))\n",
    "\n",
    "while True:\n",
    "\n",
    "    cv2.imshow('flip image', img_flip)\n",
    "    press = cv2.waitKey(0)\n",
    "    if press == 27:\n",
    "        cv2.destroyAllWindows()\n",
    "        break\n",
    "        \n",
    "img_test = cv2.resize( img , None , fx =0.2 ,  fy = 0.2 )\n",
    "img_test2 = cv2.resize( img_test , None ,  fx = 8 ,  fy = 8 )\n",
    "\n",
    "start_time = time.time()\n",
    "img_area_scale = cv2.resize(img_test, None, fx = 1, fy = 1, interpolation = cv2.INTER_NEAREST)\n",
    "print('INTER_NEAREST zoom cost {}'.format( time.time() - start_time ) )\n",
    "\n",
    "start_time = time.time()\n",
    "img_area_scale2 = cv2.resize(img_test2, None, fx = 1, fy = 1, interpolation = cv2.INTER_NEAREST)\n",
    "print('INTER_NEAREST zoom cost {}'.format( time.time() - start_time ) )\n",
    "\n",
    "start_time = time.time()\n",
    "img_cubic_scale = cv2.resize(img_test, None, fx=1, fy=1, interpolation=cv2.INTER_NEAREST)\n",
    "print('INTER_CUBIC zoom cost {}'.format(time.time() - start_time))\n",
    "\n",
    "start_time = time.time()\n",
    "img_cubic_scale2 = cv2.resize(img_test2, None, fx=1, fy=1, interpolation=cv2.INTER_NEAREST)\n",
    "print('INTER_CUBIC zoom cost {}'.format(time.time() - start_time))\n",
    "\n",
    "\n",
    "img_zoom = np.hstack((img_area_scale, img_cubic_scale))\n",
    "img_zoom2 = np.hstack((img_area_scale2, img_cubic_scale2))\n",
    "\n",
    "while True:\n",
    "    cv2.imshow('zoom image', img_zoom)\n",
    "    press = cv2.waitKey(0)\n",
    "    if press == 27:\n",
    "        cv2.destroyAllWindows()\n",
    "        break\n",
    "        \n",
    "M = np.array([[1, 0, 50],\n",
    "              [0, 1, 100]], dtype=np.float32)\n",
    "shift_img = cv2.warpAffine(img, M, (img.shape[1], img.shape[0]))\n",
    "img_shift = np.hstack((img, shift_img))\n",
    "\n",
    "while True:\n",
    "    cv2.imshow('shift image', img_shift)\n",
    "    press = cv2.waitKey(0)\n",
    "    if press == 27:\n",
    "        cv2.destroyAllWindows()\n",
    "        break"
   ]
  },
  {
   "cell_type": "code",
   "execution_count": null,
   "metadata": {},
   "outputs": [],
   "source": []
  }
 ],
 "metadata": {
  "kernelspec": {
   "display_name": "Python 3",
   "language": "python",
   "name": "python3"
  },
  "language_info": {
   "codemirror_mode": {
    "name": "ipython",
    "version": 3
   },
   "file_extension": ".py",
   "mimetype": "text/x-python",
   "name": "python",
   "nbconvert_exporter": "python",
   "pygments_lexer": "ipython3",
   "version": "3.7.4"
  }
 },
 "nbformat": 4,
 "nbformat_minor": 2
}
