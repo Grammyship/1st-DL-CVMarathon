{
 "cells": [
  {
   "cell_type": "code",
   "execution_count": 2,
   "metadata": {},
   "outputs": [],
   "source": [
    "import cv2\n",
    "import numpy as np\n",
    "\n",
    "img_source = 'lena.png'\n",
    "\n",
    "img = cv2.imread( img_source , cv2.IMREAD_COLOR )\n",
    "\n",
    "img_HSL = cv2.cvtColor( img , cv2.COLOR_BGR2HLS )\n",
    "\n",
    "change_percentage = 0.2\n",
    "\n",
    "img_HSL_down = img_HSL.astype( 'float32' )\n",
    "img_HSL_down[..., -1] = img_HSL_down[..., -1] / 255 - change_percentage\n",
    "img_HSL_down[img_HSL_down[..., -1] < 0] = 0\n",
    "img_HSL_down[..., -1] = img_HSL_down[..., -1] * 255\n",
    "img_HSL_down = img_HSL_down.astype('uint8')\n",
    "\n",
    "img_HSL_up = img_HSL.astype( 'float32' )\n",
    "img_HSL_up[..., -1] = img_HSL_up[..., -1] / 255 + change_percentage\n",
    "img_HSL_up[ img_HSL_up[..., -1] > 1 ] = 1\n",
    "img_HSL_up[..., -1] = img_HSL_up[..., -1] * 255\n",
    "img_HSL_up = img_HSL_up.astype('uint8')\n",
    "\n",
    "img_HSL_down = cv2.cvtColor(img_HSL_down, cv2.COLOR_HLS2BGR)\n",
    "img_HSL_up = cv2.cvtColor(img_HSL_up, cv2.COLOR_HLS2BGR)\n",
    "\n",
    "img_HSL_change = np.hstack((img, img_HSL_down, img_HSL_up))\n",
    "while True:\n",
    "    cv2.imshow('change saturation', img_HSL_change)\n",
    "    \n",
    "    press = cv2.waitKey(0)\n",
    "    if press == 27:\n",
    "        cv2.destroyAllWindows()\n",
    "        break\n",
    "        \n",
    "img_gray = cv2.cvtColor(img, cv2.COLOR_BGR2GRAY)\n",
    "img_gray_equal = cv2.equalizeHist(img_gray)\n",
    "img_gray_equalHist = np.hstack((img_gray, img_gray_equal))\n",
    "\n",
    "while True:\n",
    "    cv2.imshow('gray equal histogram', img_gray_equalHist)\n",
    "\n",
    "    press = cv2.waitKey(0)\n",
    "    if press == 27:\n",
    "        cv2.destroyAllWindows()\n",
    "        break\n",
    "        \n",
    "add_contrast = cv2.convertScaleAbs(img, alpha=2.0, beta=0)\n",
    "add_lighness = cv2.convertScaleAbs(img, alpha=1.0, beta=50)\n",
    "img_contrast_light = np.hstack((img, add_contrast, add_lighness))\n",
    "\n",
    "while True:\n",
    "\n",
    "    cv2.imshow('adjust contrast and brighness', img_contrast_light)\n",
    "    k = cv2.waitKey(0)\n",
    "    if k == 27:\n",
    "        cv2.destroyAllWindows()\n",
    "        break"
   ]
  },
  {
   "cell_type": "code",
   "execution_count": null,
   "metadata": {},
   "outputs": [],
   "source": []
  }
 ],
 "metadata": {
  "kernelspec": {
   "display_name": "Python 3",
   "language": "python",
   "name": "python3"
  },
  "language_info": {
   "codemirror_mode": {
    "name": "ipython",
    "version": 3
   },
   "file_extension": ".py",
   "mimetype": "text/x-python",
   "name": "python",
   "nbconvert_exporter": "python",
   "pygments_lexer": "ipython3",
   "version": "3.7.4"
  }
 },
 "nbformat": 4,
 "nbformat_minor": 2
}
